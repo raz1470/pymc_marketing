{
 "cells": [
  {
   "cell_type": "code",
   "execution_count": null,
   "metadata": {},
   "outputs": [],
   "source": [
    "def experiment_generator(saturated_spend, ci, noise):\n",
    "    '''\n",
    "    Simulates marketing experiments by calculating sales at different points on the response curve, applying random noise, and returning the results in a DataFrame.\n",
    "\n",
    "    Args:\n",
    "        saturated_spend (numpy.ndarray): Array of scaled marketing spend values.\n",
    "        ci (int): Index to select the appropriate coefficient from `betas_scaled`.\n",
    "        noise (float): The magnitude of random noise to be applied, where the noise will be a random percentage between -noise and +noise of the calculated sales.\n",
    "\n",
    "    Returns:\n",
    "        pandas.DataFrame: A DataFrame containing the results from the experiments.\n",
    "    '''\n",
    "    \n",
    "    # Calculate spend at different points on the response curve\n",
    "    spend_low = saturated_spend.min()\n",
    "    spend_med = saturated_spend.mean()\n",
    "    spend_high = saturated_spend.max()\n",
    "    \n",
    "    # Calculate channel contribution (sales) at different points on the response curve\n",
    "    sales_low = spend_low * betas_scaled[ci]\n",
    "    sales_med = spend_med * betas_scaled[ci]\n",
    "    sales_high = spend_high * betas_scaled[ci]\n",
    "    \n",
    "    # Generate random noise\n",
    "    noise_low = np.random.uniform(-noise, noise) * sales_low\n",
    "    noise_med = np.random.uniform(-noise, noise) * sales_med\n",
    "    noise_high = np.random.uniform(-noise, noise) * sales_high\n",
    "    \n",
    "    # Apply noise to sales\n",
    "    experiment_results = [\n",
    "        sales_low + noise_low,\n",
    "        sales_med + noise_med,\n",
    "        sales_high + noise_high\n",
    "    ]\n",
    "    \n",
    "    # Create a DataFrame with the results\n",
    "    data = {\n",
    "        'experiment_id': ['low', 'med', 'high'],\n",
    "        'sales': experiment_results,\n",
    "        'spend': [spend_low, spend_med, spend_high]\n",
    "    }\n",
    "    \n",
    "    df = pd.DataFrame(data)\n",
    "    \n",
    "    return df"
   ]
  },
  {
   "cell_type": "code",
   "execution_count": null,
   "metadata": {},
   "outputs": [],
   "source": [
    "mmm_default.plot_channel_contributions_grid(start=0, stop=1.5, num=12);"
   ]
  },
  {
   "cell_type": "code",
   "execution_count": null,
   "metadata": {},
   "outputs": [],
   "source": [
    "mmm_default.plot_channel_contributions_grid(start=0, stop=1.5, num=12, absolute_xrange=True);"
   ]
  },
  {
   "cell_type": "code",
   "execution_count": null,
   "metadata": {},
   "outputs": [],
   "source": [
    "np.random.seed(10)\n",
    "\n",
    "experiments_social = experiment_generator(df['social_saturated'], 1, 0.25)\n",
    "\n",
    "experiments_social"
   ]
  },
  {
   "cell_type": "code",
   "execution_count": null,
   "metadata": {},
   "outputs": [],
   "source": [
    "plt.figure(figsize=(8, 5))\n",
    "\n",
    "sns.lineplot(x=df['social_saturated'], y=df['social_sales'] / df[\"sales\"].max(), label=\"True response\", color=\"green\")\n",
    "sns.scatterplot(x=experiments_social['spend'], y=experiments_social['sales'], label=\"Experimental results\", color=\"green\", marker=\"x\")\n",
    "\n",
    "plt.title('Social Experiments', fontsize=16)\n",
    "plt.xlabel('Saturated spend', fontsize=12)\n",
    "plt.ylabel('Scaled contribution', fontsize=12)\n",
    "plt.legend()\n",
    "plt.show()"
   ]
  },
  {
   "cell_type": "code",
   "execution_count": null,
   "metadata": {},
   "outputs": [],
   "source": [
    "experiments_social"
   ]
  },
  {
   "cell_type": "code",
   "execution_count": null,
   "metadata": {},
   "outputs": [],
   "source": [
    "df_lift_test = pd.DataFrame({\n",
    "    \"channel\": [\"social_spend_raw\", \"social_spend_raw\", \"social_spend_raw\"],\n",
    "    \"x\": [0, 0, 0],\n",
    "    \"delta_x\": experiments_social[\"spend\"] * df[\"social_spend_raw\"].max(),\n",
    "#    \"delta_x\": experiments_social[\"spend\"],\n",
    "    \"delta_y\": experiments_social[\"sales\"] * df[\"sales\"].max(),\n",
    "#    \"delta_y\": experiments_social[\"sales\"],\n",
    "    \"sigma\": [0.01, 0.01, 0.01],\n",
    "    }\n",
    ")\n",
    "\n",
    "df_lift_test"
   ]
  },
  {
   "cell_type": "code",
   "execution_count": null,
   "metadata": {},
   "outputs": [],
   "source": [
    "mu = df_lift_test.loc[0, \"delta_y\"]\n",
    "sigma = df_lift_test.loc[0, \"sigma\"]\n",
    "\n",
    "beta = mu / sigma**2\n",
    "alpha = mu * beta\n",
    "\n",
    "x2 = np.linspace(0, 0.2, 1000)\n",
    "y2 = gamma.pdf(x2, a=alpha, scale=1/beta)\n",
    "\n",
    "plt.figure(figsize=(8, 6))\n",
    "plt.plot(x2, y2, 'b-')\n",
    "plt.fill_between(x2, y2, alpha=0.2, color='blue')\n",
    "plt.title('Social Experiment 01: Gamma Distribution')\n",
    "plt.xlabel('delta_y')\n",
    "plt.ylabel('Probability density')\n",
    "plt.grid(True)\n",
    "plt.show()"
   ]
  },
  {
   "cell_type": "code",
   "execution_count": null,
   "metadata": {},
   "outputs": [],
   "source": [
    "mmm_default.add_lift_test_measurements(df_lift_test)\n",
    "mmm_default.fit(X[train_idx], y[train_idx])"
   ]
  },
  {
   "cell_type": "code",
   "execution_count": null,
   "metadata": {},
   "outputs": [],
   "source": [
    "mmm_default.idata[\"sample_stats\"][\"diverging\"].sum().item()"
   ]
  },
  {
   "cell_type": "code",
   "execution_count": null,
   "metadata": {},
   "outputs": [],
   "source": [
    "_ = az.plot_trace(\n",
    "    data=mmm_default.fit_result,\n",
    "    var_names=[\n",
    "        \"intercept\",\n",
    "        \"y_sigma\",\n",
    "        \"saturation_beta\",\n",
    "        \"saturation_lam\",\n",
    "        \"adstock_alpha\",\n",
    "        \"gamma_fourier\",\n",
    "    ],\n",
    "    compact=True,\n",
    "    backend_kwargs={\"figsize\": (12, 10), \"layout\": \"constrained\"},\n",
    ")\n",
    "plt.gcf().suptitle(\"Model Trace\", fontsize=16);"
   ]
  },
  {
   "cell_type": "code",
   "execution_count": null,
   "metadata": {},
   "outputs": [],
   "source": [
    "fig = mmm_default.plot_channel_parameter(param_name=\"adstock_alpha\", figsize=(9, 5))\n",
    "ax = fig.axes[0]\n",
    "ax.axvline(x=adstock_alphas[0], color=\"C0\", linestyle=\"--\", label=r\"$\\alpha_1$\")\n",
    "ax.axvline(x=adstock_alphas[1], color=\"C1\", linestyle=\"--\", label=r\"$\\alpha_2$\")\n",
    "ax.axvline(x=adstock_alphas[2], color=\"C2\", linestyle=\"--\", label=r\"$\\alpha_3$\")\n",
    "ax.legend(loc=\"upper right\");"
   ]
  },
  {
   "cell_type": "code",
   "execution_count": null,
   "metadata": {},
   "outputs": [],
   "source": [
    "fig = mmm_default.plot_channel_parameter(param_name=\"saturation_lam\", figsize=(9, 5))\n",
    "ax = fig.axes[0]\n",
    "ax.axvline(x=saturation_lamdas[0], color=\"C0\", linestyle=\"--\", label=r\"$\\lambda_1$\")\n",
    "ax.axvline(x=saturation_lamdas[1], color=\"C1\", linestyle=\"--\", label=r\"$\\lambda_2$\")\n",
    "ax.axvline(x=saturation_lamdas[2], color=\"C2\", linestyle=\"--\", label=r\"$\\lambda_3$\")\n",
    "ax.legend(loc=\"upper right\");"
   ]
  },
  {
   "cell_type": "code",
   "execution_count": null,
   "metadata": {},
   "outputs": [],
   "source": [
    "fig = mmm_default.plot_channel_parameter(param_name=\"saturation_beta\", figsize=(9, 5))\n",
    "ax = fig.axes[0]\n",
    "ax.axvline(x=betas_scaled[0], color=\"C0\", linestyle=\"--\", label=r\"$\\beta_1$\")\n",
    "ax.axvline(x=betas_scaled[1], color=\"C1\", linestyle=\"--\", label=r\"$\\beta_2$\")\n",
    "ax.axvline(x=betas_scaled[2], color=\"C2\", linestyle=\"--\", label=r\"$\\beta_3$\")\n",
    "ax.legend(loc=\"upper right\");"
   ]
  }
 ],
 "metadata": {
  "language_info": {
   "name": "python"
  }
 },
 "nbformat": 4,
 "nbformat_minor": 2
}
